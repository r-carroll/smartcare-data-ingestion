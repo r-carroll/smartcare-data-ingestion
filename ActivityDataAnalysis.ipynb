{
 "cells": [
  {
   "cell_type": "code",
   "execution_count": 399,
   "id": "4b3b55f1",
   "metadata": {},
   "outputs": [],
   "source": [
    "import numpy as np\n",
    "import pandas as pd\n",
    "import matplotlib.pyplot as plt\n",
    "from statsmodels.tsa.arima_model import ARIMA\n",
    "from statsmodels.tsa.stattools import adfuller"
   ]
  },
  {
   "cell_type": "code",
   "execution_count": 431,
   "id": "896663a4",
   "metadata": {},
   "outputs": [],
   "source": [
    "data = pd.read_csv('./fit-data-alan.csv', index_col=0)\n",
    "pop_data = pd.read_csv('./population-data.csv', index_col=0)"
   ]
  },
  {
   "cell_type": "code",
   "execution_count": 432,
   "id": "03d5916e",
   "metadata": {},
   "outputs": [
    {
     "name": "stdout",
     "output_type": "stream",
     "text": [
      "                steps \n",
      "time                  \n",
      "1623810207910    97509\n",
      "1624415007910    77349\n",
      "1625019807910    78948\n",
      "1625624607910    51669\n",
      "1626229407910    11529\n"
     ]
    }
   ],
   "source": [
    "print(data)"
   ]
  },
  {
   "cell_type": "code",
   "execution_count": 433,
   "id": "40be3801",
   "metadata": {},
   "outputs": [
    {
     "data": {
      "text/html": [
       "<div>\n",
       "<style scoped>\n",
       "    .dataframe tbody tr th:only-of-type {\n",
       "        vertical-align: middle;\n",
       "    }\n",
       "\n",
       "    .dataframe tbody tr th {\n",
       "        vertical-align: top;\n",
       "    }\n",
       "\n",
       "    .dataframe thead th {\n",
       "        text-align: right;\n",
       "    }\n",
       "</style>\n",
       "<table border=\"1\" class=\"dataframe\">\n",
       "  <thead>\n",
       "    <tr style=\"text-align: right;\">\n",
       "      <th></th>\n",
       "      <th>steps</th>\n",
       "    </tr>\n",
       "    <tr>\n",
       "      <th>time</th>\n",
       "      <th></th>\n",
       "    </tr>\n",
       "  </thead>\n",
       "  <tbody>\n",
       "    <tr>\n",
       "      <th>1623810207910</th>\n",
       "      <td>97509</td>\n",
       "    </tr>\n",
       "    <tr>\n",
       "      <th>1624415007910</th>\n",
       "      <td>77349</td>\n",
       "    </tr>\n",
       "    <tr>\n",
       "      <th>1625019807910</th>\n",
       "      <td>78948</td>\n",
       "    </tr>\n",
       "    <tr>\n",
       "      <th>1625624607910</th>\n",
       "      <td>51669</td>\n",
       "    </tr>\n",
       "    <tr>\n",
       "      <th>1626229407910</th>\n",
       "      <td>11529</td>\n",
       "    </tr>\n",
       "  </tbody>\n",
       "</table>\n",
       "</div>"
      ],
      "text/plain": [
       "                steps \n",
       "time                  \n",
       "1623810207910    97509\n",
       "1624415007910    77349\n",
       "1625019807910    78948\n",
       "1625624607910    51669\n",
       "1626229407910    11529"
      ]
     },
     "execution_count": 433,
     "metadata": {},
     "output_type": "execute_result"
    }
   ],
   "source": [
    "data.head()"
   ]
  },
  {
   "cell_type": "code",
   "execution_count": 434,
   "id": "5fabccb1",
   "metadata": {
    "scrolled": true
   },
   "outputs": [
    {
     "data": {
      "text/plain": [
       "[<matplotlib.lines.Line2D at 0x7f8fa65dd0f0>]"
      ]
     },
     "execution_count": 434,
     "metadata": {},
     "output_type": "execute_result"
    },
    {
     "data": {
      "image/png": "[encoded data removed]",
      "text/plain": [
       "<Figure size 432x288 with 1 Axes>"
      ]
     },
     "metadata": {
      "needs_background": "light"
     },
     "output_type": "display_data"
    }
   ],
   "source": [
    "#data.plot()\n",
    "plt.plot(data, color='blue', label='Individual Original Data')\n",
    "plt.plot(pop_data, color='red', label='Population')"
   ]
  },
  {
   "cell_type": "code",
   "execution_count": 435,
   "id": "59eb29f9",
   "metadata": {},
   "outputs": [],
   "source": [
    "rolling_std = data.rolling(window=4).std()"
   ]
  },
  {
   "cell_type": "code",
   "execution_count": 436,
   "id": "2ee24cbd",
   "metadata": {},
   "outputs": [
    {
     "data": {
      "text/plain": [
       "<Figure size 1080x360 with 0 Axes>"
      ]
     },
     "execution_count": 436,
     "metadata": {},
     "output_type": "execute_result"
    },
    {
     "data": {
      "text/plain": [
       "<Figure size 1080x360 with 0 Axes>"
      ]
     },
     "metadata": {},
     "output_type": "display_data"
    }
   ],
   "source": [
    "plt.figure(figsize=(15,5))    "
   ]
  },
  {
   "cell_type": "code",
   "execution_count": 437,
   "id": "4b02ead2",
   "metadata": {},
   "outputs": [],
   "source": [
    "rolling_mean = data.rolling(window=4).mean()"
   ]
  },
  {
   "cell_type": "code",
   "execution_count": 438,
   "id": "9ccdd562",
   "metadata": {},
   "outputs": [
    {
     "name": "stdout",
     "output_type": "stream",
     "text": [
      "                 steps \n",
      "time                   \n",
      "1623810207910       NaN\n",
      "1624415007910       NaN\n",
      "1625019807910       NaN\n",
      "1625624607910  76368.75\n",
      "1626229407910  54873.75\n"
     ]
    }
   ],
   "source": [
    "print(rolling_mean)"
   ]
  },
  {
   "cell_type": "code",
   "execution_count": 439,
   "id": "b3a17317",
   "metadata": {},
   "outputs": [
    {
     "data": {
      "image/png": "[encoded data removed]",
      "text/plain": [
       "<Figure size 432x288 with 1 Axes>"
      ]
     },
     "metadata": {
      "needs_background": "light"
     },
     "output_type": "display_data"
    }
   ],
   "source": [
    "original = plt.plot(data, color='blue', label='Original')\n",
    "mean = plt.plot(rolling_mean, color='red', label='Rolling Mean')\n",
    "#std = plt.plot(rolling_std, color='black', label='Rolling Std')"
   ]
  },
  {
   "cell_type": "code",
   "execution_count": 440,
   "id": "a3424c08",
   "metadata": {},
   "outputs": [],
   "source": [
    "adf_result = adfuller(data)"
   ]
  },
  {
   "cell_type": "code",
   "execution_count": 441,
   "id": "c51eb4d9",
   "metadata": {},
   "outputs": [
    {
     "name": "stdout",
     "output_type": "stream",
     "text": [
      "(0.8223733099262325, 0.991988864644435, 0, 4, {'1%': -7.355440625, '5%': -4.474365000000001, '10%': -3.1269325}, 91.18418779245924)\n"
     ]
    }
   ],
   "source": [
    "print(adf_result)"
   ]
  },
  {
   "cell_type": "code",
   "execution_count": 442,
   "id": "7dbdecde",
   "metadata": {},
   "outputs": [
    {
     "name": "stdout",
     "output_type": "stream",
     "text": [
      "0.991988864644435\n"
     ]
    }
   ],
   "source": [
    "p_value = adf_result[1]\n",
    "print(p_value)\n",
    "# print('ADF Statistic: {}'.format(adf_result[0]))\n",
    "# print('p-value: {}'.format(adf_result[1]))"
   ]
  },
  {
   "cell_type": "code",
   "execution_count": 443,
   "id": "45c26386",
   "metadata": {},
   "outputs": [],
   "source": [
    "p_value_threshold = 0.05"
   ]
  },
  {
   "cell_type": "code",
   "execution_count": 444,
   "id": "b2f2d912",
   "metadata": {},
   "outputs": [],
   "source": [
    "if p_value > p_value_threshold:\n",
    "    isNonStationary = True"
   ]
  },
  {
   "cell_type": "code",
   "execution_count": 445,
   "id": "516ba56b",
   "metadata": {},
   "outputs": [
    {
     "name": "stdout",
     "output_type": "stream",
     "text": [
      "Non-stationary!\n",
      "                 steps \n",
      "time                   \n",
      "1625624607910 -24699.75\n",
      "1626229407910 -43344.75\n"
     ]
    },
    {
     "ename": "ValueError",
     "evalue": "sample size is too short to use selected regression component",
     "output_type": "error",
     "traceback": [
      "\u001b[0;31m---------------------------------------------------------------------------\u001b[0m",
      "\u001b[0;31mValueError\u001b[0m                                Traceback (most recent call last)",
      "\u001b[0;32m<ipython-input-445-98661eb7522d>\u001b[0m in \u001b[0;36m<module>\u001b[0;34m\u001b[0m\n\u001b[1;32m      4\u001b[0m     \u001b[0mdata_minus_mean\u001b[0m\u001b[0;34m.\u001b[0m\u001b[0mdropna\u001b[0m\u001b[0;34m(\u001b[0m\u001b[0minplace\u001b[0m\u001b[0;34m=\u001b[0m\u001b[0;32mTrue\u001b[0m\u001b[0;34m)\u001b[0m\u001b[0;34m\u001b[0m\u001b[0;34m\u001b[0m\u001b[0m\n\u001b[1;32m      5\u001b[0m     \u001b[0mprint\u001b[0m\u001b[0;34m(\u001b[0m\u001b[0mdata_minus_mean\u001b[0m\u001b[0;34m)\u001b[0m\u001b[0;34m\u001b[0m\u001b[0;34m\u001b[0m\u001b[0m\n\u001b[0;32m----> 6\u001b[0;31m     \u001b[0madf_result_stationary\u001b[0m \u001b[0;34m=\u001b[0m \u001b[0madfuller\u001b[0m\u001b[0;34m(\u001b[0m\u001b[0mdata_minus_mean\u001b[0m\u001b[0;34m)\u001b[0m\u001b[0;34m\u001b[0m\u001b[0;34m\u001b[0m\u001b[0m\n\u001b[0m\u001b[1;32m      7\u001b[0m     \u001b[0mp_value_stationary\u001b[0m \u001b[0;34m=\u001b[0m \u001b[0madf_result_stationary\u001b[0m\u001b[0;34m[\u001b[0m\u001b[0;36m1\u001b[0m\u001b[0;34m]\u001b[0m\u001b[0;34m\u001b[0m\u001b[0;34m\u001b[0m\u001b[0m\n\u001b[1;32m      8\u001b[0m     \u001b[0mprint\u001b[0m\u001b[0;34m(\u001b[0m\u001b[0mp_value_stationary\u001b[0m\u001b[0;34m)\u001b[0m\u001b[0;34m\u001b[0m\u001b[0;34m\u001b[0m\u001b[0m\n",
      "\u001b[0;32m~/anaconda3/envs/python3/lib/python3.6/site-packages/statsmodels/tsa/stattools.py\u001b[0m in \u001b[0;36madfuller\u001b[0;34m(x, maxlag, regression, autolag, store, regresults)\u001b[0m\n\u001b[1;32m    280\u001b[0m         \u001b[0;32mif\u001b[0m \u001b[0mmaxlag\u001b[0m \u001b[0;34m<\u001b[0m \u001b[0;36m0\u001b[0m\u001b[0;34m:\u001b[0m\u001b[0;34m\u001b[0m\u001b[0;34m\u001b[0m\u001b[0m\n\u001b[1;32m    281\u001b[0m             raise ValueError(\n\u001b[0;32m--> 282\u001b[0;31m                 \u001b[0;34m\"sample size is too short to use selected \"\u001b[0m\u001b[0;34m\u001b[0m\u001b[0;34m\u001b[0m\u001b[0m\n\u001b[0m\u001b[1;32m    283\u001b[0m                 \u001b[0;34m\"regression component\"\u001b[0m\u001b[0;34m\u001b[0m\u001b[0;34m\u001b[0m\u001b[0m\n\u001b[1;32m    284\u001b[0m             )\n",
      "\u001b[0;31mValueError\u001b[0m: sample size is too short to use selected regression component"
     ]
    }
   ],
   "source": [
    "if isNonStationary:\n",
    "    print('Non-stationary!')\n",
    "    data_minus_mean = data - rolling_mean\n",
    "    data_minus_mean.dropna(inplace=True)\n",
    "    print(data_minus_mean)\n",
    "    adf_result_stationary = adfuller(data_minus_mean)\n",
    "    p_value_stationary = adf_result_stationary[1]\n",
    "    print(p_value_stationary)\n",
    "    original = plt.plot(data, color='blue', label='Original')\n",
    "    mean = plt.plot(rolling_mean, color='red', label='Rolling Mean')\n",
    "    original_minus_mean = plt.plot(data_minus_mean, color='black', label='Original - Rolling Mean')"
   ]
  },
  {
   "cell_type": "code",
   "execution_count": 446,
   "id": "0f284360",
   "metadata": {},
   "outputs": [
    {
     "name": "stderr",
     "output_type": "stream",
     "text": [
      "/home/ec2-user/anaconda3/envs/python3/lib/python3.6/site-packages/statsmodels/tsa/arima_model.py:472: FutureWarning: \n",
      "statsmodels.tsa.arima_model.ARMA and statsmodels.tsa.arima_model.ARIMA have\n",
      "been deprecated in favor of statsmodels.tsa.arima.model.ARIMA (note the .\n",
      "between arima and model) and\n",
      "statsmodels.tsa.SARIMAX. These will be removed after the 0.12 release.\n",
      "\n",
      "statsmodels.tsa.arima.model.ARIMA makes use of the statespace framework and\n",
      "is both well tested and maintained.\n",
      "\n",
      "To silence this warning and continue using ARMA and ARIMA until they are\n",
      "removed, use:\n",
      "\n",
      "import warnings\n",
      "warnings.filterwarnings('ignore', 'statsmodels.tsa.arima_model.ARMA',\n",
      "                        FutureWarning)\n",
      "warnings.filterwarnings('ignore', 'statsmodels.tsa.arima_model.ARIMA',\n",
      "                        FutureWarning)\n",
      "\n",
      "  warnings.warn(ARIMA_DEPRECATION_WARN, FutureWarning)\n",
      "/home/ec2-user/anaconda3/envs/python3/lib/python3.6/site-packages/statsmodels/tsa/base/tsa_model.py:579: ValueWarning: An unsupported index was provided and will be ignored when e.g. forecasting.\n",
      "  ' ignored when e.g. forecasting.', ValueWarning)\n",
      "/home/ec2-user/anaconda3/envs/python3/lib/python3.6/site-packages/statsmodels/tsa/base/tsa_model.py:579: ValueWarning: An unsupported index was provided and will be ignored when e.g. forecasting.\n",
      "  ' ignored when e.g. forecasting.', ValueWarning)\n"
     ]
    },
    {
     "name": "stdout",
     "output_type": "stream",
     "text": [
      "                             ARIMA Model Results                              \n",
      "==============================================================================\n",
      "Dep. Variable:              D. steps    No. Observations:                    4\n",
      "Model:                 ARIMA(1, 1, 0)   Log Likelihood                 -44.175\n",
      "Method:                       css-mle   S.D. of innovations          15134.052\n",
      "Date:                Fri, 16 Jul 2021   AIC                             94.349\n",
      "Time:                        07:30:35   BIC                             92.508\n",
      "Sample:                             1   HQIC                            90.309\n",
      "                                                                              \n",
      "===================================================================================\n",
      "                      coef    std err          z      P>|z|      [0.025      0.975]\n",
      "-----------------------------------------------------------------------------------\n",
      "const           -2.153e+04   7994.668     -2.693      0.007   -3.72e+04   -5858.942\n",
      "ar.L1.D. steps      0.0071      0.563      0.013      0.990      -1.097       1.111\n",
      "                                    Roots                                    \n",
      "=============================================================================\n",
      "                  Real          Imaginary           Modulus         Frequency\n",
      "-----------------------------------------------------------------------------\n",
      "AR.1          140.4280           +0.0000j          140.4280            0.0000\n",
      "-----------------------------------------------------------------------------\n"
     ]
    },
    {
     "data": {
      "image/png": "[encoded data removed]",
      "text/plain": [
       "<Figure size 432x288 with 1 Axes>"
      ]
     },
     "metadata": {
      "needs_background": "light"
     },
     "output_type": "display_data"
    }
   ],
   "source": [
    "# model = ARIMA(data_minus_mean, order=(1, 0, 0))\n",
    "model = ARIMA(data, order=(1, 1, 0))\n",
    "results = model.fit()\n",
    "#original = plt.plot(data, color='blue', label='Original')\n",
    "mean = plt.plot(rolling_mean, color='red', label='Rolling Mean')\n",
    "original = plt.plot(data, color='blue', label='Original')\n",
    "original_minus_mean = plt.plot(data_minus_mean, color='green', label='Original Minus Rolling Mean')\n",
    "model_graph = plt.plot(results.fittedvalues, color='black')\n",
    "print(results.summary())"
   ]
  },
  {
   "cell_type": "code",
   "execution_count": 447,
   "id": "0c0ea873",
   "metadata": {},
   "outputs": [
    {
     "name": "stdout",
     "output_type": "stream",
     "text": [
      "                 steps \n",
      "time                   \n",
      "1623810207910       NaN\n",
      "1624415007910       NaN\n",
      "1625019807910       NaN\n",
      "1625624607910  76368.75\n",
      "1626229407910  54873.75\n"
     ]
    }
   ],
   "source": [
    "print(rolling_mean)"
   ]
  },
  {
   "cell_type": "code",
   "execution_count": 448,
   "id": "b094e684",
   "metadata": {
    "scrolled": true
   },
   "outputs": [
    {
     "name": "stdout",
     "output_type": "stream",
     "text": [
      "                 steps \n",
      "time                   \n",
      "1625624607910 -24699.75\n",
      "1626229407910 -43344.75\n"
     ]
    }
   ],
   "source": [
    "print(data_minus_mean) # If data_minus_mean < 0, then actual data points are less than lagging moving average, hence there is a downward trend."
   ]
  },
  {
   "cell_type": "code",
   "execution_count": 462,
   "id": "655c44d3",
   "metadata": {},
   "outputs": [
    {
     "name": "stdout",
     "output_type": "stream",
     "text": [
      " steps    -34022.25\n",
      "dtype: float64\n",
      "Downward trend detected!\n"
     ]
    }
   ],
   "source": [
    "print(data_minus_mean.mean())\n",
    "if (data_minus_mean.mean()[0] < 0):\n",
    "    print('Downward trend detected!')"
   ]
  },
  {
   "cell_type": "code",
   "execution_count": 503,
   "id": "cb00ac7d",
   "metadata": {},
   "outputs": [],
   "source": [
    "import boto3\n",
    "import json"
   ]
  },
  {
   "cell_type": "code",
   "execution_count": 504,
   "id": "3d18c98a",
   "metadata": {},
   "outputs": [],
   "source": [
    "json_obj = {'username' : 'bobjones','trend' : 'down'}\n",
    "# json_obj.append({\n",
    "#     'username' : 'bobjones',\n",
    "#     'trend' : 'down'\n",
    "#     })"
   ]
  },
  {
   "cell_type": "code",
   "execution_count": 505,
   "id": "6ec76505",
   "metadata": {},
   "outputs": [],
   "source": [
    "with open('test.json','w') as jsonFile:\n",
    "    json.dump(json_obj, jsonFile)"
   ]
  },
  {
   "cell_type": "code",
   "execution_count": 512,
   "id": "b2d30eae",
   "metadata": {
    "scrolled": false
   },
   "outputs": [
    {
     "data": {
      "text/plain": [
       "s3.Bucket(name='sagemaker-studio-358152566113-y03mhqkeuda')"
      ]
     },
     "execution_count": 512,
     "metadata": {},
     "output_type": "execute_result"
    }
   ],
   "source": [
    "s3 = boto3.resource('s3')\n",
    "s3.Bucket(name='sagemaker-studio-358152566113-y03mhqkeuda')"
   ]
  },
  {
   "cell_type": "code",
   "execution_count": 513,
   "id": "b14f5a6f",
   "metadata": {
    "scrolled": true
   },
   "outputs": [],
   "source": [
    "s3.meta.client.upload_file('test.json', 'sagemaker-studio-358152566113-y03mhqkeuda', 'notebook-output/test.json')"
   ]
  },
  {
   "cell_type": "code",
   "execution_count": null,
   "id": "3cbd33fb",
   "metadata": {},
   "outputs": [],
   "source": []
  }
 ],
 "metadata": {
  "kernelspec": {
   "display_name": "conda_python3",
   "language": "python",
   "name": "conda_python3"
  },
  "language_info": {
   "codemirror_mode": {
    "name": "ipython",
    "version": 3
   },
   "file_extension": ".py",
   "mimetype": "text/x-python",
   "name": "python",
   "nbconvert_exporter": "python",
   "pygments_lexer": "ipython3",
   "version": "3.6.13"
  }
 },
 "nbformat": 4,
 "nbformat_minor": 5
}
